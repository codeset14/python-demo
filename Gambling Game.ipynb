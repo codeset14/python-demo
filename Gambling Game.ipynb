{
 "cells": [
  {
   "cell_type": "code",
   "execution_count": 3,
   "metadata": {},
   "outputs": [
    {
     "name": "stdout",
     "output_type": "stream",
     "text": [
      "balance: 50.0\n",
      "balance: 25.0\n"
     ]
    },
    {
     "ename": "SystemExit",
     "evalue": "",
     "output_type": "error",
     "traceback": [
      "An exception has occurred, use %tb to see the full traceback.\n",
      "\u001b[1;31mSystemExit\u001b[0m\n"
     ]
    }
   ],
   "source": [
    "import sys\n",
    "m = 100\n",
    "i1 = input('do you want to gamble? (y/n)')\n",
    "if i1 == 'n': sys.exit()\n",
    "while True:\n",
    "    i = input('do you want to gamble again? (y/n)')\n",
    "    if i == 'y':\n",
    "        m /= 2\n",
    "        print('balance:', m)\n",
    "    else: sys.exit()"
   ]
  },
  {
   "cell_type": "code",
   "execution_count": 11,
   "metadata": {},
   "outputs": [
    {
     "name": "stdout",
     "output_type": "stream",
     "text": [
      "balance: 200\n",
      "balance: 400\n",
      "balance: 800\n",
      "balance: 400.0\n",
      "balance: 800.0\n",
      "balance: 400.0\n",
      "balance: 200.0\n"
     ]
    },
    {
     "ename": "SystemExit",
     "evalue": "",
     "output_type": "error",
     "traceback": [
      "An exception has occurred, use %tb to see the full traceback.\n",
      "\u001b[1;31mSystemExit\u001b[0m\n"
     ]
    }
   ],
   "source": [
    "import sys\n",
    "import random as rd\n",
    "\n",
    "m = 100\n",
    "i1 = input('do you want to gamble? (y/n)')\n",
    "if i1 == 'n':\n",
    "    sys.exit()\n",
    "\n",
    "while True:\n",
    "    i = input('do you want to gamble again? (y/n)')\n",
    "    if i == 'y':\n",
    "        guess = rd.randint(0, 1)  # Generate a random integer: 0 or 1\n",
    "        if guess == 1:\n",
    "            m *= 2\n",
    "        else:\n",
    "            m /= 2\n",
    "        print('balance:', m)\n",
    "    else:\n",
    "        sys.exit()"
   ]
  },
  {
   "cell_type": "code",
   "execution_count": null,
   "metadata": {},
   "outputs": [],
   "source": []
  }
 ],
 "metadata": {
  "kernelspec": {
   "display_name": "base",
   "language": "python",
   "name": "python3"
  },
  "language_info": {
   "codemirror_mode": {
    "name": "ipython",
    "version": 3
   },
   "file_extension": ".py",
   "mimetype": "text/x-python",
   "name": "python",
   "nbconvert_exporter": "python",
   "pygments_lexer": "ipython3",
   "version": "3.12.7"
  }
 },
 "nbformat": 4,
 "nbformat_minor": 2
}
