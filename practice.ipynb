{
 "cells": [
  {
   "cell_type": "code",
   "execution_count": 1,
   "metadata": {},
   "outputs": [
    {
     "name": "stdout",
     "output_type": "stream",
     "text": [
      "hello\n"
     ]
    }
   ],
   "source": [
    "print('hello')"
   ]
  },
  {
   "cell_type": "code",
   "execution_count": 3,
   "metadata": {},
   "outputs": [
    {
     "name": "stdout",
     "output_type": "stream",
     "text": [
      "[1, 2, 3, [7, 8, 9, 10], 4, 5]\n"
     ]
    }
   ],
   "source": [
    "A=[1,2,3,4,5]\n",
    "A.insert(3,[7,8,9,10])\n",
    "print(A)"
   ]
  },
  {
   "cell_type": "code",
   "execution_count": 26,
   "metadata": {},
   "outputs": [
    {
     "name": "stdout",
     "output_type": "stream",
     "text": [
      "[100, 110, 120, 100, 110, 120, 100, 110, 120, 100, 110, 120]\n"
     ]
    }
   ],
   "source": [
    "list2 = [100,110,120]\n",
    "list2.extend(list2*3)\n",
    "print(list2)"
   ]
  },
  {
   "cell_type": "code",
   "execution_count": 11,
   "metadata": {},
   "outputs": [
    {
     "name": "stdout",
     "output_type": "stream",
     "text": [
      "[100, 110]\n"
     ]
    }
   ],
   "source": [
    "list2 = [100,110,120]\n",
    "list2.remove(list2[2])\n",
    "print(list2)"
   ]
  },
  {
   "cell_type": "code",
   "execution_count": 14,
   "metadata": {},
   "outputs": [
    {
     "name": "stdout",
     "output_type": "stream",
     "text": [
      "[110, 120]\n"
     ]
    }
   ],
   "source": [
    "list2 = [100,110,120]\n",
    "del(list2[0])\n",
    "print(list2)"
   ]
  },
  {
   "cell_type": "code",
   "execution_count": 16,
   "metadata": {},
   "outputs": [
    {
     "name": "stdout",
     "output_type": "stream",
     "text": [
      "100\n",
      "[110, 120]\n"
     ]
    }
   ],
   "source": [
    "list2 = [100,110,120]\n",
    "a=list2.pop(0)\n",
    "print(a)\n",
    "print(list2)"
   ]
  },
  {
   "cell_type": "code",
   "execution_count": 22,
   "metadata": {},
   "outputs": [
    {
     "name": "stdout",
     "output_type": "stream",
     "text": [
      "[2, 4, 6, 8, 10]\n"
     ]
    }
   ],
   "source": [
    "list1 = [1,2,3,4,5,6]\n",
    "list1= [x * 2 for x in [1,2,3,4,5]]\n",
    "print (list1)\n"
   ]
  },
  {
   "cell_type": "code",
   "execution_count": 23,
   "metadata": {},
   "outputs": [
    {
     "name": "stdout",
     "output_type": "stream",
     "text": [
      "[1, 2, ['P', 'Q', 'R'], 'M', 3, 4, 5, 6, 15, 'A', 'B', 'C']\n"
     ]
    }
   ],
   "source": [
    "list1 = [1,2,3,4,5,6]\n",
    "list1.append (15)\n",
    "list1.extend (['A','B','C'])\n",
    "list1.insert (2, 'M')\n",
    "list1.insert (2, ['P','Q','R'])\n",
    "print (list1)\n"
   ]
  },
  {
   "cell_type": "code",
   "execution_count": 27,
   "metadata": {},
   "outputs": [
    {
     "name": "stdout",
     "output_type": "stream",
     "text": [
      "['Rick', 'Jim', 'Mark', 'Jack', 'Ken']\n",
      "['Jack', 'Jim', 'Ken', 'Mark', 'Rick']\n"
     ]
    }
   ],
   "source": [
    "list1 = ['Rick','Jim','Mark','Jack','Ken']\n",
    "list2 = sorted (list1)\n",
    "print (list1)\n",
    "print (list2)\n"
   ]
  },
  {
   "cell_type": "code",
   "execution_count": 30,
   "metadata": {},
   "outputs": [
    {
     "name": "stdout",
     "output_type": "stream",
     "text": [
      "[2, 4, 6, 8, 10]\n"
     ]
    }
   ],
   "source": [
    "list1 = []\n",
    "for x in [1,2,3,4,5]:\n",
    "    list1.append (x * 2)\n",
    "print (list1)"
   ]
  },
  {
   "cell_type": "code",
   "execution_count": null,
   "metadata": {},
   "outputs": [],
   "source": []
  }
 ],
 "metadata": {
  "kernelspec": {
   "display_name": "base",
   "language": "python",
   "name": "python3"
  },
  "language_info": {
   "codemirror_mode": {
    "name": "ipython",
    "version": 3
   },
   "file_extension": ".py",
   "mimetype": "text/x-python",
   "name": "python",
   "nbconvert_exporter": "python",
   "pygments_lexer": "ipython3",
   "version": "3.12.7"
  }
 },
 "nbformat": 4,
 "nbformat_minor": 2
}
